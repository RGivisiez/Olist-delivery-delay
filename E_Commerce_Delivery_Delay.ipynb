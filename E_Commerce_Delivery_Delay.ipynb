{
  "nbformat": 4,
  "nbformat_minor": 0,
  "metadata": {
    "colab": {
      "name": "E-Commerce - Delivery Delay.ipynb",
      "provenance": [],
      "collapsed_sections": [
        "uYl4LVxzcnCd",
        "qig22prlUuS1",
        "jSm-dqVlhg9b",
        "a4fqA7O61zmo",
        "2E-eiUsV_GGk",
        "aJuC7YTSjm4p",
        "bu5dpSvdjOZs",
        "z0u6yllj3O9A",
        "uKZedmJtkQpL",
        "CQCrorWh3c7H",
        "-A-XeKvv3ndG",
        "Sr233cg_34GS",
        "9rYMPD8n4ANv",
        "ChRVekzgPNeK",
        "r7_14LRB-X9m",
        "i96jQmLc5EOx",
        "l34jKSRJuzEc",
        "gQLUSrA2uzEe",
        "xDlctOVJuzEf",
        "f3tTyo2vuzEj",
        "pM_RNHhyrIyG",
        "0TOSDlVJuzEk",
        "XXeCTCLguzEp",
        "AW3BuXBJuzEs",
        "jfxXiMkFuzEv"
      ],
      "authorship_tag": "ABX9TyNR9oHMuNqSLtyLioW6LTFQ",
      "include_colab_link": true
    },
    "kernelspec": {
      "name": "python3",
      "display_name": "Python 3"
    },
    "language_info": {
      "name": "python"
    }
  },
  "cells": [
    {
      "cell_type": "markdown",
      "metadata": {
        "id": "view-in-github",
        "colab_type": "text"
      },
      "source": [
        "<a href=\"https://colab.research.google.com/github/RGivisiez/Olist-delivery-delay/blob/main/E_Commerce_Delivery_Delay.ipynb\" target=\"_parent\"><img src=\"https://colab.research.google.com/assets/colab-badge.svg\" alt=\"Open In Colab\"/></a>"
      ]
    },
    {
      "cell_type": "markdown",
      "source": [
        "# Sobre o dataset\n",
        "\n",
        "A Olist é uma empresa de marketplace brasileira que agrega vendedores e divulga seus produtos. Diversas análilses de seu dataset já foram feitas e podem ser encontradas nesta página do [Kaggle](https://www.kaggle.com/olistbr/brazilian-ecommerce). Seu dataset contêm mais de 100.000 ordens de vendas feitas por mais de 1.000 vendedores."
      ],
      "metadata": {
        "id": "uYl4LVxzcnCd"
      }
    },
    {
      "cell_type": "markdown",
      "source": [
        "# Objetivo\n",
        "\n",
        "Como foi visto nos resultados do [notebook](https://github.com/RGivisiez/Olist-sellers-K-Means), onde classificamos os vendedores como bons, medianos e ruins, uma baixa avaliação dos vendedores está correlacionada com o atraso da entrega. O **objetivo é prever possíveis atrasos na entrega** e avisar o consumir previamente. Desta forma esperamos que o consumidor fique mais satisfeito, já que foi avisado da possibilidade de atraso, diminuindo assim o número de reclamações, aumentando o possibilidade de uma avaliação melhor do vendedor e aumentando as chances de comprar novamente no site. "
      ],
      "metadata": {
        "id": "qig22prlUuS1"
      }
    },
    {
      "cell_type": "markdown",
      "source": [
        "### Python Import"
      ],
      "metadata": {
        "id": "jSm-dqVlhg9b"
      }
    },
    {
      "cell_type": "code",
      "source": [
        "!pip install geopy"
      ],
      "metadata": {
        "colab": {
          "base_uri": "https://localhost:8080/"
        },
        "id": "f430PEjL3aas",
        "outputId": "69285631-9561-40eb-e37c-dcd6e5118d94"
      },
      "execution_count": 1,
      "outputs": [
        {
          "output_type": "stream",
          "name": "stdout",
          "text": [
            "Requirement already satisfied: geopy in /usr/local/lib/python3.8/dist-packages (2.2.0)\n",
            "Requirement already satisfied: geographiclib<2,>=1.49 in /usr/local/lib/python3.8/dist-packages (from geopy) (1.52)\n",
            "\u001b[33mWARNING: You are using pip version 20.2.4; however, version 22.0.4 is available.\n",
            "You should consider upgrading via the '/usr/bin/python3 -m pip install --upgrade pip' command.\u001b[0m\n"
          ]
        }
      ]
    },
    {
      "cell_type": "code",
      "source": [
        "import pandas as pd\n",
        "import numpy as np\n",
        "import matplotlib.pyplot as plt\n",
        "import seaborn as sns\n",
        "\n",
        "from sklearn.preprocessing import MinMaxScaler, StandardScaler\n",
        "from sklearn.metrics import silhouette_score, silhouette_samples\n",
        "from sklearn.cluster import KMeans\n",
        "from sklearn.pipeline import Pipeline\n",
        "\n",
        "import geopy.distance"
      ],
      "metadata": {
        "id": "QZALiUAZ-lnR"
      },
      "execution_count": 2,
      "outputs": []
    },
    {
      "cell_type": "code",
      "execution_count": 3,
      "metadata": {
        "colab": {
          "base_uri": "https://localhost:8080/"
        },
        "id": "Ishvi1qG-Uio",
        "outputId": "311507a8-26d3-47d5-c20e-41168b336f0a"
      },
      "outputs": [
        {
          "output_type": "stream",
          "name": "stdout",
          "text": [
            "/project/Dataset/o-list\n"
          ]
        }
      ],
      "source": [
        "%cd Dataset/o-list"
      ]
    },
    {
      "cell_type": "markdown",
      "source": [
        "### Funções auxiliares\n",
        "\n"
      ],
      "metadata": {
        "id": "a4fqA7O61zmo"
      }
    },
    {
      "cell_type": "code",
      "source": [
        "def return_scores(classifier, X, y, name, scoring=[\"recall\", \"accuracy\"]):\n",
        "\n",
        "  '''\n",
        "     classifier: classificador\n",
        "     X:          dataset\n",
        "     y:          variável alvo\n",
        "     name:       nome do classificador\n",
        "     scoring:    escores que serão calculados\n",
        "\n",
        "     return:     array com os escores\n",
        "  '''\n",
        "\n",
        "  scores = cross_validate(classifier, X, y,\n",
        "                        scoring = scoring, cv=5, n_jobs=-1)\n",
        "  \n",
        "  results = []\n",
        "\n",
        "  for key in scores.keys():\n",
        "\n",
        "    if key.split('_')[1] in scoring:\n",
        "      \n",
        "      mean = np.mean(scores[key])\n",
        "      results.append(mean)\n",
        "\n",
        "      std = np.std(scores[key])\n",
        "      results.append(std)\n",
        "\n",
        "      print('<{0}>: {1} {0}_err: {2}'.format(key.split('_')[1], \n",
        "                                             np.round(mean, 3),\n",
        "                                             np.round(std, 3)))\n",
        "\n",
        "  results.append(name)\n",
        "\n",
        "  return results"
      ],
      "metadata": {
        "id": "5WnhLHMPWT1v"
      },
      "execution_count": 4,
      "outputs": []
    },
    {
      "cell_type": "code",
      "source": [
        "def distance(x):\n",
        "  coord1 = (x['customer_lat'], x['customer_lng'])\n",
        "  coord2 = (x['seller_lat'], x['seller_lng'])\n",
        "\n",
        "  return geopy.distance.geodesic(coord1, coord2).km"
      ],
      "metadata": {
        "id": "wsFAdoEyseEQ"
      },
      "execution_count": 5,
      "outputs": []
    },
    {
      "cell_type": "code",
      "source": [
        "def plot_silhouette_scores(models, data):\n",
        "\n",
        "  silhouette_scores = []\n",
        "  ks = []\n",
        "\n",
        "  for model in models:\n",
        "    model.fit(data)\n",
        "    silhouette_scores.append(silhouette_score(data, model.labels_))\n",
        "    ks.append(model.n_clusters)\n",
        "\n",
        "  plt.figure(figsize=(8, 3))\n",
        "  plt.plot(ks, silhouette_scores, \"bo-\")\n",
        "  plt.xlabel(\"n_cluster\", fontsize=14)\n",
        "  plt.ylabel(\"Silhouette score\", fontsize=14)\n",
        "\n",
        "  plt.show()"
      ],
      "metadata": {
        "id": "v5LM0z2QeeQs"
      },
      "execution_count": 6,
      "outputs": []
    },
    {
      "cell_type": "markdown",
      "source": [
        "#Abrindo os dados"
      ],
      "metadata": {
        "id": "2E-eiUsV_GGk"
      }
    },
    {
      "cell_type": "markdown",
      "source": [
        "A separação entre os datasets disponibilizados é dada por:\n",
        "\n",
        "\n",
        "![a](https://i.imgur.com/HRhd2Y0.png)"
      ],
      "metadata": {
        "id": "GtpFbJQNCBcl"
      }
    },
    {
      "cell_type": "markdown",
      "source": [
        "### Abrindo os datasets\n"
      ],
      "metadata": {
        "id": "aJuC7YTSjm4p"
      }
    },
    {
      "cell_type": "code",
      "source": [
        "products = pd.read_csv('olist_products_dataset.csv')\n",
        "category_translation = pd.read_csv('product_category_name_translation.csv')\n",
        "\n",
        "items = pd.read_csv(\"olist_order_items_dataset.csv\")\n",
        "items.rename(columns={'order_item_id':'order_item_qty'}, inplace=True)\n",
        "\n",
        "orders = pd.read_csv(\"olist_orders_dataset.csv\")\n",
        "reviews = pd.read_csv(\"olist_order_reviews_dataset.csv\")\n",
        "geoloc = pd.read_csv(\"olist_geolocation_dataset.csv\")\n",
        "sellers = pd.read_csv(\"olist_sellers_dataset.csv\")\n",
        "#payments = pd.read_csv(\"olist_order_payments_dataset.csv\")\n",
        "customers = pd.read_csv(\"olist_customers_dataset.csv\")"
      ],
      "metadata": {
        "id": "GvjH_CRDjtFT"
      },
      "execution_count": 7,
      "outputs": []
    },
    {
      "cell_type": "markdown",
      "source": [
        "### Trocando os nomes dos produtos para inglês\n",
        "\n"
      ],
      "metadata": {
        "id": "bu5dpSvdjOZs"
      }
    },
    {
      "cell_type": "code",
      "source": [
        "products = pd.merge(products, category_translation, how=\"left\", \n",
        "                    on=\"product_category_name\")\n",
        "\n",
        "products.drop('product_category_name', axis=1, inplace=True)\n",
        "products.rename(columns={'product_name_lenght':'product_name_length',\n",
        "                         'product_description_lenght':'product_description_length',\n",
        "                         'product_category_name_english':'product_category_name'},\n",
        "                inplace=True)\n",
        "\n",
        "del category_translation"
      ],
      "metadata": {
        "id": "N6k1-2Rg_RkM"
      },
      "execution_count": 8,
      "outputs": []
    },
    {
      "cell_type": "markdown",
      "source": [
        "### Removendo outliers das geolocalizações"
      ],
      "metadata": {
        "id": "z0u6yllj3O9A"
      }
    },
    {
      "cell_type": "code",
      "source": [
        "# Removing some outliers\n",
        "#Brazils most Northern spot is at 5 deg 16′ 27.8″ N latitude.;\n",
        "geoloc = geoloc[geoloc.geolocation_lat <= 5.27438888]\n",
        "#it’s most Western spot is at 73 deg, 58′ 58.19″W Long.\n",
        "geoloc = geoloc[geoloc.geolocation_lng >= -73.98283055]\n",
        "#It’s most southern spot is at 33 deg, 45′ 04.21″ S Latitude.\n",
        "geoloc = geoloc[geoloc.geolocation_lat >= -33.75116944]\n",
        "#It’s most Eastern spot is 34 deg, 47′ 35.33″ W Long.\n",
        "geoloc = geoloc[geoloc.geolocation_lng <=  -34.79314722]"
      ],
      "metadata": {
        "id": "q49usPdYom_2"
      },
      "execution_count": 9,
      "outputs": []
    },
    {
      "cell_type": "markdown",
      "source": [
        "### Unificando todos os dados e limpando os dados"
      ],
      "metadata": {
        "id": "uKZedmJtkQpL"
      }
    },
    {
      "cell_type": "code",
      "source": [
        "df = pd.merge(orders, reviews, on='order_id', how='left')\n",
        "df = pd.merge(df, items, on='order_id', how='left')\n",
        "df = pd.merge(df, customers, on='customer_id', how='left')\n",
        "df = pd.merge(df, products, on='product_id', how='left')\n",
        "df = pd.merge(df, sellers, on='seller_id', how='left')"
      ],
      "metadata": {
        "id": "2Ihc-n-eBNon"
      },
      "execution_count": 10,
      "outputs": []
    },
    {
      "cell_type": "markdown",
      "source": [
        "#### Obtendo os dados geográficos dos cosumidores e dos vendedores"
      ],
      "metadata": {
        "id": "CQCrorWh3c7H"
      }
    },
    {
      "cell_type": "code",
      "source": [
        "df = pd.merge(df, geoloc.groupby('geolocation_zip_code_prefix').mean().reset_index(),\n",
        "                    how='left',\n",
        "                    left_on='customer_zip_code_prefix',\n",
        "                    right_on='geolocation_zip_code_prefix').rename(columns={\n",
        "                                                                            'geolocation_lat':'customer_lat',\n",
        "                                                                            'geolocation_lng':'customer_lng'}).drop('geolocation_zip_code_prefix', axis=1)"
      ],
      "metadata": {
        "id": "8wKiFIReBS4e"
      },
      "execution_count": 11,
      "outputs": []
    },
    {
      "cell_type": "code",
      "source": [
        "df = pd.merge(df, geoloc.groupby('geolocation_zip_code_prefix').mean().reset_index(),\n",
        "                    how='left',\n",
        "                    left_on='seller_zip_code_prefix',\n",
        "                    right_on='geolocation_zip_code_prefix').rename(columns={\n",
        "                                                                            'geolocation_lat':'seller_lat',\n",
        "                                                                            'geolocation_lng':'seller_lng'}).drop('geolocation_zip_code_prefix', axis=1)"
      ],
      "metadata": {
        "id": "K4rKb7DpEzF6"
      },
      "execution_count": 12,
      "outputs": []
    },
    {
      "cell_type": "markdown",
      "source": [
        "#### Deletando os pedidos que não foram entregues"
      ],
      "metadata": {
        "id": "-A-XeKvv3ndG"
      }
    },
    {
      "cell_type": "code",
      "source": [
        "df = df[df.order_status == 'delivered'].drop('order_status', axis=1)"
      ],
      "metadata": {
        "id": "ky9pjt4qxsS4"
      },
      "execution_count": 13,
      "outputs": []
    },
    {
      "cell_type": "markdown",
      "source": [
        "#### Selecionando as colunas que serão usadas para criar novas features e descartando os NaNs."
      ],
      "metadata": {
        "id": "Sr233cg_34GS"
      }
    },
    {
      "cell_type": "code",
      "source": [
        "columns = ['order_id', 'customer_id', 'product_id',\n",
        "           'seller_id', 'customer_unique_id',\n",
        "            \n",
        "          'order_approved_at', 'shipping_limit_date',\n",
        "          'order_delivered_customer_date', 'order_estimated_delivery_date',\n",
        "          'order_delivered_carrier_date', 'order_purchase_timestamp',\n",
        "          \n",
        "          'order_item_qty', 'freight_value', \n",
        "          'product_weight_g', 'product_length_cm',\n",
        "          'product_height_cm', 'product_width_cm', 'product_category_name',\n",
        "            \n",
        "          'customer_zip_code_prefix', 'customer_city', 'customer_state',\n",
        "          'seller_zip_code_prefix', 'seller_city', 'seller_state', 'customer_lat',\n",
        "          'customer_lng', 'seller_lat', 'seller_lng',\n",
        "          \n",
        "          'review_id', 'review_score',\n",
        "          ]"
      ],
      "metadata": {
        "id": "wLBxq91cyD-u"
      },
      "execution_count": 14,
      "outputs": []
    },
    {
      "cell_type": "code",
      "source": [
        "df = df[columns].dropna()"
      ],
      "metadata": {
        "id": "QhuKKXSe1DQF"
      },
      "execution_count": 15,
      "outputs": []
    },
    {
      "cell_type": "markdown",
      "source": [
        "# Novas features"
      ],
      "metadata": {
        "id": "9rYMPD8n4ANv"
      }
    },
    {
      "cell_type": "code",
      "source": [
        "#Distância entre o vendedor e o consumidor\n",
        "df['customer_seller_dist'] = df.apply(lambda x: distance(x), axis=1)"
      ],
      "metadata": {
        "id": "qeZ9tSwUsDln"
      },
      "execution_count": 16,
      "outputs": []
    },
    {
      "cell_type": "code",
      "source": [
        "#Criando a variável alvo\n",
        "df['order_delivered_customer_date'] = pd.to_datetime(df['order_delivered_customer_date'])\n",
        "df['order_estimated_delivery_date'] = pd.to_datetime(df['order_estimated_delivery_date'])\n",
        "\n",
        "df['delivery_delay'] = (df['order_delivered_customer_date'] - df['order_estimated_delivery_date']).dt.days\n",
        "df['is_delayed'] = df['delivery_delay'].apply(lambda x: 0 if x < 0 else 1)"
      ],
      "metadata": {
        "id": "92j0VrduIpwf"
      },
      "execution_count": 17,
      "outputs": []
    },
    {
      "cell_type": "code",
      "source": [
        "#Densidade e volume do produto\n",
        "df['product_volume'] = df['product_width_cm'] * df['product_length_cm'] * df['product_height_cm']\n",
        "df['product_density'] = df['product_weight_g'] / df['product_volume']"
      ],
      "metadata": {
        "id": "iE4v-SHn8KIA"
      },
      "execution_count": 18,
      "outputs": []
    },
    {
      "cell_type": "code",
      "source": [
        "#Dia e mês que o pedido foi feito\n",
        "df[\"order_purchase_timestamp\"] = pd.to_datetime(df[\"order_purchase_timestamp\"])\n",
        "\n",
        "df[\"purchase_day\"] = df[\"order_purchase_timestamp\"].apply(lambda x: x.day_name())\n",
        "df[\"purchase_month\"] = df[\"order_purchase_timestamp\"].apply(lambda x: x.month)"
      ],
      "metadata": {
        "id": "zu7Ygae59kDD"
      },
      "execution_count": 19,
      "outputs": []
    },
    {
      "cell_type": "code",
      "source": [
        "#Transformando os dias da semana em categorias\n",
        "from sklearn.preprocessing import LabelEncoder\n",
        "enc = LabelEncoder()\n",
        "enc = enc.fit(df['purchase_day'])\n",
        "df['purchase_day'] = enc.transform(df['purchase_day'])"
      ],
      "metadata": {
        "id": "YTQMQAMZTlJO"
      },
      "execution_count": 20,
      "outputs": []
    },
    {
      "cell_type": "code",
      "source": [
        "#Considerando somente os pedidos de um único estado\n",
        "df = df[(df.customer_state == 'RJ')]\n",
        "df.shape"
      ],
      "metadata": {
        "id": "jjwKRVHye-YU",
        "colab": {
          "base_uri": "https://localhost:8080/"
        },
        "outputId": "36fc80d6-e1d2-4c38-a89d-ac4eb5838e4a"
      },
      "execution_count": 21,
      "outputs": [
        {
          "output_type": "execute_result",
          "data": {
            "text/plain": [
              "(13783, 37)"
            ]
          },
          "metadata": {},
          "execution_count": 21
        }
      ]
    },
    {
      "cell_type": "code",
      "source": [
        "#Dividindo o CEP dos vendedores e dos usuários\n",
        "df['customer_zip1'] = df['customer_zip_code_prefix'].astype(str).str[0:1].astype(int)\n",
        "df['customer_zip2'] = df['customer_zip_code_prefix'].astype(str).str[0:2].astype(int)\n",
        "df['customer_zip3'] = df['customer_zip_code_prefix'].astype(str).str[0:3].astype(int)\n",
        "df['customer_zip4'] = df['customer_zip_code_prefix'].astype(str).str[0:4].astype(int)\n",
        "\n",
        "df['seller_zip1'] = df['seller_zip_code_prefix'].astype(str).str[0:1].astype(int)\n",
        "df['seller_zip2'] = df['seller_zip_code_prefix'].astype(str).str[0:2].astype(int)\n",
        "df['seller_zip3'] = df['seller_zip_code_prefix'].astype(str).str[0:3].astype(int)\n",
        "df['seller_zip4'] = df['seller_zip_code_prefix'].astype(str).str[0:4].astype(int)"
      ],
      "metadata": {
        "id": "523gCpakwnq0"
      },
      "execution_count": 22,
      "outputs": []
    },
    {
      "cell_type": "code",
      "source": [
        "#Variável binária indicando se o vender está no mesmo estado que o comprador.\n",
        "df['same_state'] = (df['customer_zip1'] - df['seller_zip1']).clip(0, 1)"
      ],
      "metadata": {
        "id": "cOdgBZNK2tBB"
      },
      "execution_count": 23,
      "outputs": []
    },
    {
      "cell_type": "code",
      "source": [
        "#População por zip\n",
        "df['customer_zip2_pop'] = df.groupby(['customer_zip2']).agg({'customer_zip2':'count'})\n",
        "df['customer_zip3_pop'] = df.groupby(['customer_zip3']).agg({'customer_zip3':'count'})\n",
        "df['customer_zip4_pop'] = df.groupby(['customer_zip4']).agg({'customer_zip4':'count'})"
      ],
      "metadata": {
        "id": "1tvRk2pRAhEE"
      },
      "execution_count": 24,
      "outputs": []
    },
    {
      "cell_type": "code",
      "source": [
        "for idx in range(2, 5):\n",
        "  name = 'customer_zip' + str(idx)\n",
        "  df[name + '_pop'] = df[[name]].merge(df.groupby([name])\\\n",
        "                                                        .agg({name:'count'})\\\n",
        "                                                        .rename(columns={name:name + '_pop'})\\\n",
        "                                                        .reset_index(),\n",
        "                                                        on=name)[name + '_pop'].values"
      ],
      "metadata": {
        "id": "4U8Kfi9qFLaI"
      },
      "execution_count": 25,
      "outputs": []
    },
    {
      "cell_type": "code",
      "source": [
        "#Agrupando estatísticas por zip code, além de fazer target enconding.\n",
        "\n",
        "zip_cols = ['customer_zip' + str(i) for i in range(2, 5)]\n",
        "\n",
        "agg_cols = ['product_density', 'order_item_qty', 'freight_value', 'product_volume', 'review_score', 'is_delayed']\n",
        "\n",
        "for idx, zip_col in enumerate(zip_cols):\n",
        "\n",
        "  df_sum = df[[zip_col] + agg_cols].groupby(zip_col).sum()\n",
        "  df_sum.columns = [name + str(idx + 1) + '_sum' for name in agg_cols]\n",
        "\n",
        "  df_mean = df[[zip_col] + agg_cols].groupby(zip_col).mean()\n",
        "  df_mean.columns = [name + str(idx + 1) + '_mean' for name in agg_cols]\n",
        "  \n",
        "  df = df.merge(df_sum, on=zip_col)\n",
        "  df = df.merge(df_mean, on=zip_col)"
      ],
      "metadata": {
        "id": "Et5h3_P7mXKn"
      },
      "execution_count": 26,
      "outputs": []
    },
    {
      "cell_type": "code",
      "source": [
        "from scipy.stats import probplot\n",
        "from sklearn.mixture import GaussianMixture\n",
        "from sklearn.preprocessing import PowerTransformer"
      ],
      "metadata": {
        "id": "mr4PvQp1NuuF"
      },
      "execution_count": 27,
      "outputs": []
    },
    {
      "cell_type": "code",
      "source": [
        "mix = GaussianMixture(n_components=4, random_state=0).fit(df[['customer_seller_dist']])\n",
        "mix_labels = mix.predict(df[['customer_seller_dist']])\n",
        "center = mix.means_"
      ],
      "metadata": {
        "id": "hnKEiVx9UE0s"
      },
      "execution_count": 28,
      "outputs": []
    },
    {
      "cell_type": "code",
      "source": [
        "df['mix_label'] = mix_labels\n",
        "df['mix_center'] = df['mix_label'].map({key:value for key, value in zip(np.unique(mix_labels), center[:, 0])})"
      ],
      "metadata": {
        "id": "o2nR6-7AUrJm"
      },
      "execution_count": 29,
      "outputs": []
    },
    {
      "cell_type": "code",
      "source": [
        "df['product_density'] = np.log1p(df['product_density'])"
      ],
      "metadata": {
        "id": "qYwRoLRrBnWM"
      },
      "execution_count": 30,
      "outputs": []
    },
    {
      "cell_type": "code",
      "source": [
        "power_transform = PowerTransformer(method='box-cox')\n",
        "power_transform = power_transform.fit(np.log1p(df[['product_volume']]))\n",
        "df['product_volume'] = power_transform.transform(np.log1p(df[['product_volume']]))[:, 0]"
      ],
      "metadata": {
        "id": "m0fZGI8ga-eT"
      },
      "execution_count": 31,
      "outputs": []
    },
    {
      "cell_type": "markdown",
      "source": [
        "### Dividindo a variável alvo em 3 classes:\n",
        "\n",
        "1. **Sem atraso:** 2.0\n",
        "2. **Atrasada:** 1.0\n",
        "3. **Muito atrasada:** 0.0"
      ],
      "metadata": {
        "id": "ChRVekzgPNeK"
      }
    },
    {
      "cell_type": "code",
      "source": [
        "#Definindo a variável alvo\n",
        "df['target'] = np.ceil(df['delivery_delay'] / 7.).clip(-2, 0).astype(int)\n",
        "df['target'] = df['target'] - df['target'].min()\n",
        "df['target'].hist(bins=200)\n",
        "print('Proporção das classes:\\n{0}'.format((df['target'].value_counts() / df['target'].shape[0])))\n",
        "plt.show()"
      ],
      "metadata": {
        "colab": {
          "base_uri": "https://localhost:8080/",
          "height": 0
        },
        "id": "50quIteFM6Wp",
        "outputId": "eff7cdc6-4c87-4333-8972-035ae26daf77"
      },
      "execution_count": 32,
      "outputs": [
        {
          "output_type": "stream",
          "name": "stdout",
          "text": [
            "Proporção das classes:\n",
            "0    0.482188\n",
            "1    0.284046\n",
            "2    0.233766\n",
            "Name: target, dtype: float64\n"
          ]
        },
        {
          "output_type": "display_data",
          "data": {
            "text/plain": [
              "<Figure size 640x480 with 1 Axes>"
            ],
            "image/png": "[encoded data removed]"
          },
          "metadata": {}
        }
      ]
    },
    {
      "cell_type": "markdown",
      "source": [
        "A maioria das ordens chegam com atraso no local. "
      ],
      "metadata": {
        "id": "E6TCknoORj-O"
      }
    },
    {
      "cell_type": "markdown",
      "source": [
        "# \"Target Enconder\" com Clusters\n",
        "\n",
        "Existem diferenças na velocidade da entrega em cada região do país, o mesmo acontece para os estados. Por exemplo, no Rio de Janeiro, existem regiões onde os produtos tem um atraso maior, geralmente elas se encontram na periferia. A ideia é usar o algoritmo de Density-Based Spatial Clustering of Applications with Noise (DBSCAN) para separar essa regiões em grupos. Porém, nos vamos utilizar a informação sobre a variável ``is_delayed`` para avaliar se os cluster estão separados de forma relevante para o nosso algoritmo."
      ],
      "metadata": {
        "id": "r7_14LRB-X9m"
      }
    },
    {
      "cell_type": "code",
      "source": [
        "from sklearn.cluster import DBSCAN"
      ],
      "metadata": {
        "id": "o2AQXkTi-aCH"
      },
      "execution_count": 33,
      "outputs": []
    },
    {
      "cell_type": "code",
      "source": [
        "cluster_cols = [\n",
        "                'purchase_month',\n",
        "                'order_item_qty',\n",
        "                'product_volume',\n",
        "                'purchase_day',\n",
        "\n",
        "                'customer_zip2',\n",
        "                'customer_zip3',\n",
        "                \n",
        "                'review_score',\n",
        "\n",
        "                'same_state'\n",
        "               ]"
      ],
      "metadata": {
        "id": "LAvxGBiV_ZQc"
      },
      "execution_count": 34,
      "outputs": []
    },
    {
      "cell_type": "code",
      "source": [
        "dbscan = DBSCAN(n_jobs=-1, eps=0.008, min_samples=20,\n",
        "                metric='cosine',\n",
        "                )\n",
        "dbscan.fit(MinMaxScaler().fit_transform(df[cluster_cols]))"
      ],
      "metadata": {
        "colab": {
          "base_uri": "https://localhost:8080/"
        },
        "id": "BtZDZpaNfzic",
        "outputId": "060f0459-bb29-426f-ac0c-fe0ffb4e0e38"
      },
      "execution_count": 35,
      "outputs": [
        {
          "output_type": "execute_result",
          "data": {
            "text/plain": [
              "DBSCAN(eps=0.008, metric='cosine', min_samples=20, n_jobs=-1)"
            ]
          },
          "metadata": {},
          "execution_count": 35
        }
      ]
    },
    {
      "cell_type": "code",
      "source": [
        "df['db_label'] = dbscan.labels_"
      ],
      "metadata": {
        "id": "7HpzpZCSNmKw"
      },
      "execution_count": 36,
      "outputs": []
    },
    {
      "cell_type": "code",
      "source": [
        "db_group = df[['db_label', 'is_delayed']]\\\n",
        "                                        .groupby('db_label')\\\n",
        "                                        .agg({'is_delayed':['mean', 'count']})\\\n",
        "                                        .sort_values(('is_delayed', 'count'),\n",
        "                                                     ascending=False)"
      ],
      "metadata": {
        "id": "BzcA5zGBFA9C"
      },
      "execution_count": 37,
      "outputs": []
    },
    {
      "cell_type": "markdown",
      "source": [
        "Como a label  ``is_delayed`` possui valor 0 ou 1, se a média de um grupo estiver muito próxima de 0 isso significa que este grupo possui muitos pedidos atrasados. No caso contrário, onde temos uma média próxima de 1, os grupos identificam onde os pedidos não atrasam."
      ],
      "metadata": {
        "id": "g-OncYV9mNPt"
      }
    },
    {
      "cell_type": "code",
      "source": [
        "db_group"
      ],
      "metadata": {
        "colab": {
          "base_uri": "https://localhost:8080/",
          "height": 488
        },
        "id": "DAJED59lfYgw",
        "outputId": "498e704e-4e11-4532-950b-9a67af0a111d"
      },
      "execution_count": 38,
      "outputs": [
        {
          "output_type": "execute_result",
          "data": {
            "text/plain": [
              "         is_delayed      \n",
              "               mean count\n",
              "db_label                 \n",
              " 1         0.041256  5890\n",
              "-1         0.261778  4118\n",
              " 0         0.046789  3270\n",
              " 2         0.541096   146\n",
              " 9         0.720339   118\n",
              " 5         0.596491    57\n",
              " 4         0.326087    46\n",
              " 8         0.613636    44\n",
              " 3         0.621622    37\n",
              " 10        0.708333    24\n",
              " 7         0.750000    20\n",
              " 6         0.076923    13"
            ],
            "text/html": [
              "<div>\n",
              "<style scoped>\n",
              "    .dataframe tbody tr th:only-of-type {\n",
              "        vertical-align: middle;\n",
              "    }\n",
              "\n",
              "    .dataframe tbody tr th {\n",
              "        vertical-align: top;\n",
              "    }\n",
              "\n",
              "    .dataframe thead tr th {\n",
              "        text-align: left;\n",
              "    }\n",
              "\n",
              "    .dataframe thead tr:last-of-type th {\n",
              "        text-align: right;\n",
              "    }\n",
              "</style>\n",
              "<table border=\"1\" class=\"dataframe\">\n",
              "  <thead>\n",
              "    <tr>\n",
              "      <th></th>\n",
              "      <th colspan=\"2\" halign=\"left\">is_delayed</th>\n",
              "    </tr>\n",
              "    <tr>\n",
              "      <th></th>\n",
              "      <th>mean</th>\n",
              "      <th>count</th>\n",
              "    </tr>\n",
              "    <tr>\n",
              "      <th>db_label</th>\n",
              "      <th></th>\n",
              "      <th></th>\n",
              "    </tr>\n",
              "  </thead>\n",
              "  <tbody>\n",
              "    <tr>\n",
              "      <th>1</th>\n",
              "      <td>0.041256</td>\n",
              "      <td>5890</td>\n",
              "    </tr>\n",
              "    <tr>\n",
              "      <th>-1</th>\n",
              "      <td>0.261778</td>\n",
              "      <td>4118</td>\n",
              "    </tr>\n",
              "    <tr>\n",
              "      <th>0</th>\n",
              "      <td>0.046789</td>\n",
              "      <td>3270</td>\n",
              "    </tr>\n",
              "    <tr>\n",
              "      <th>2</th>\n",
              "      <td>0.541096</td>\n",
              "      <td>146</td>\n",
              "    </tr>\n",
              "    <tr>\n",
              "      <th>9</th>\n",
              "      <td>0.720339</td>\n",
              "      <td>118</td>\n",
              "    </tr>\n",
              "    <tr>\n",
              "      <th>5</th>\n",
              "      <td>0.596491</td>\n",
              "      <td>57</td>\n",
              "    </tr>\n",
              "    <tr>\n",
              "      <th>4</th>\n",
              "      <td>0.326087</td>\n",
              "      <td>46</td>\n",
              "    </tr>\n",
              "    <tr>\n",
              "      <th>8</th>\n",
              "      <td>0.613636</td>\n",
              "      <td>44</td>\n",
              "    </tr>\n",
              "    <tr>\n",
              "      <th>3</th>\n",
              "      <td>0.621622</td>\n",
              "      <td>37</td>\n",
              "    </tr>\n",
              "    <tr>\n",
              "      <th>10</th>\n",
              "      <td>0.708333</td>\n",
              "      <td>24</td>\n",
              "    </tr>\n",
              "    <tr>\n",
              "      <th>7</th>\n",
              "      <td>0.750000</td>\n",
              "      <td>20</td>\n",
              "    </tr>\n",
              "    <tr>\n",
              "      <th>6</th>\n",
              "      <td>0.076923</td>\n",
              "      <td>13</td>\n",
              "    </tr>\n",
              "  </tbody>\n",
              "</table>\n",
              "</div>"
            ]
          },
          "metadata": {},
          "execution_count": 38
        }
      ]
    },
    {
      "cell_type": "code",
      "source": [
        "plt.scatter(x=db_group[('is_delayed', 'mean')], y=db_group[('is_delayed', 'count')])\n",
        "plt.show()"
      ],
      "metadata": {
        "colab": {
          "base_uri": "https://localhost:8080/",
          "height": 430
        },
        "id": "LgBTGkOEfND5",
        "outputId": "1b18d831-0e44-4b37-aa7d-305a78a56fb1"
      },
      "execution_count": 39,
      "outputs": [
        {
          "output_type": "display_data",
          "data": {
            "text/plain": [
              "<Figure size 640x480 with 1 Axes>"
            ],
            "image/png": "[encoded data removed]"
          },
          "metadata": {}
        }
      ]
    },
    {
      "cell_type": "markdown",
      "source": [
        "#Fazendo previsões"
      ],
      "metadata": {
        "id": "i96jQmLc5EOx"
      }
    },
    {
      "cell_type": "code",
      "source": [
        "#Colunas consideradas no modelo\n",
        "columns = [\n",
        "           'freight_value',\n",
        "           'customer_seller_dist',\n",
        "           'product_density',\n",
        "           'purchase_month',\n",
        "           'order_item_qty',\n",
        "           'product_volume',\n",
        "           'purchase_day',\n",
        "\n",
        "           'customer_zip1',\n",
        "           'customer_zip2',\n",
        "           'customer_zip3',\n",
        "           'customer_zip4',\n",
        "           \n",
        "           'same_state',\n",
        "\n",
        "           'review_score', 'db_label',\n",
        "           \n",
        "          ]"
      ],
      "metadata": {
        "id": "dCw6jl7aEG86"
      },
      "execution_count": 40,
      "outputs": []
    },
    {
      "cell_type": "code",
      "source": [
        "#Checando se existem NaNs\n",
        "df[columns].isna().sum()"
      ],
      "metadata": {
        "colab": {
          "base_uri": "https://localhost:8080/"
        },
        "id": "VC-_mAU67IYR",
        "outputId": "018373cc-45d6-458c-a4ec-3c5edda5e305"
      },
      "execution_count": 41,
      "outputs": [
        {
          "output_type": "execute_result",
          "data": {
            "text/plain": [
              "freight_value           0\n",
              "customer_seller_dist    0\n",
              "product_density         0\n",
              "purchase_month          0\n",
              "order_item_qty          0\n",
              "product_volume          0\n",
              "purchase_day            0\n",
              "customer_zip1           0\n",
              "customer_zip2           0\n",
              "customer_zip3           0\n",
              "customer_zip4           0\n",
              "same_state              0\n",
              "review_score            0\n",
              "db_label                0\n",
              "dtype: int64"
            ]
          },
          "metadata": {},
          "execution_count": 41
        }
      ]
    },
    {
      "cell_type": "markdown",
      "source": [
        "## Random Forest"
      ],
      "metadata": {
        "id": "k4NxqHFoQZm8"
      }
    },
    {
      "cell_type": "code",
      "source": [
        "from sklearn.tree import DecisionTreeClassifier\n",
        "from sklearn.model_selection import GridSearchCV\n",
        "from sklearn.model_selection import cross_validate"
      ],
      "metadata": {
        "id": "0mWeGz8XRLYv"
      },
      "execution_count": 42,
      "outputs": []
    },
    {
      "cell_type": "code",
      "source": [
        "X = df[columns]\n",
        "y_hat = df['target']"
      ],
      "metadata": {
        "id": "BISlj_q9QT8q"
      },
      "execution_count": 43,
      "outputs": []
    },
    {
      "cell_type": "code",
      "source": [
        "grid_pipe = Pipeline([\n",
        "                      ('decision_tree', DecisionTreeClassifier()),\n",
        "                    ])"
      ],
      "metadata": {
        "id": "KJSEjn8xRLWO"
      },
      "execution_count": 44,
      "outputs": []
    },
    {
      "cell_type": "code",
      "source": [
        "param_grid = [\n",
        "              {'decision_tree__max_depth': [3, 10, 15, 20, 30], \n",
        "               'decision_tree__max_features': ['log2', 'sqrt', df[columns].shape[1]],\n",
        "               'decision_tree__min_samples_split': [50, 100,  500, 1000],\n",
        "               'decision_tree__splitter': ['best', 'random']},\n",
        "             ]\n",
        "\n",
        "grid_search = GridSearchCV(grid_pipe, param_grid, cv=5,\n",
        "                            scoring='accuracy',\n",
        "                            n_jobs=-1)\n",
        "\n",
        "_ = grid_search.fit(X, y_hat)"
      ],
      "metadata": {
        "id": "yeEl2QuxRLTy"
      },
      "execution_count": 45,
      "outputs": []
    },
    {
      "cell_type": "code",
      "source": [
        "grid_search.best_params_"
      ],
      "metadata": {
        "id": "FYhcC5moRJNv",
        "colab": {
          "base_uri": "https://localhost:8080/"
        },
        "outputId": "2b168e1e-1279-4659-84af-3eb97823ce68"
      },
      "execution_count": 46,
      "outputs": [
        {
          "output_type": "execute_result",
          "data": {
            "text/plain": [
              "{'decision_tree__max_depth': 3,\n",
              " 'decision_tree__max_features': 14,\n",
              " 'decision_tree__min_samples_split': 50,\n",
              " 'decision_tree__splitter': 'best'}"
            ]
          },
          "metadata": {},
          "execution_count": 46
        }
      ]
    },
    {
      "cell_type": "code",
      "source": [
        "tree_clf = grid_search.best_estimator_"
      ],
      "metadata": {
        "id": "rFPphZWjWHEX"
      },
      "execution_count": 47,
      "outputs": []
    },
    {
      "cell_type": "code",
      "source": [
        "feature_importances = tree_clf[0].feature_importances_"
      ],
      "metadata": {
        "id": "w-htF671WHCK"
      },
      "execution_count": 48,
      "outputs": []
    },
    {
      "cell_type": "code",
      "source": [
        "#@title \"Importância das Features\"\n",
        "plt.figure(figsize=[15, 5])\n",
        "top_10 = pd.DataFrame(feature_importances, index=df[columns].columns).sort_values(0, ascending=False).head(10)\n",
        "top_features = list(top_10.index)\n",
        "\n",
        "sns.barplot(data=top_10.T, palette=\"Blues_d\")\n",
        "plt.xticks(rotation=70)\n",
        "plt.show()"
      ],
      "metadata": {
        "id": "PE1IKCVCWG_o",
        "colab": {
          "base_uri": "https://localhost:8080/",
          "height": 426
        },
        "outputId": "d36cd387-fbef-4592-99c0-27c7e103deb0",
        "cellView": "form"
      },
      "execution_count": 49,
      "outputs": [
        {
          "output_type": "display_data",
          "data": {
            "text/plain": [
              "<Figure size 1500x500 with 1 Axes>"
            ],
            "image/png": "[encoded data removed]"
          },
          "metadata": {}
        }
      ]
    },
    {
      "cell_type": "code",
      "source": [
        "#@title Acurácia do modelo\n",
        "_ = return_scores(tree_clf, X, y_hat, name='Decision Tree', scoring=[\"accuracy\"])"
      ],
      "metadata": {
        "id": "xxrcbkEDWXNp",
        "colab": {
          "base_uri": "https://localhost:8080/"
        },
        "outputId": "31b1fc9c-f1f7-47b5-98c9-2bab8ceec6e1",
        "cellView": "form"
      },
      "execution_count": 50,
      "outputs": [
        {
          "output_type": "stream",
          "name": "stdout",
          "text": [
            "<accuracy>: 0.559 accuracy_err: 0.031\n"
          ]
        }
      ]
    },
    {
      "cell_type": "code",
      "source": [
        "pred = tree_clf.predict(X)"
      ],
      "metadata": {
        "id": "0J4b2w7H9YkA"
      },
      "execution_count": 51,
      "outputs": []
    },
    {
      "cell_type": "code",
      "source": [
        "#@title Matrix Confusão (Recall)\n",
        "from sklearn.metrics import confusion_matrix, ConfusionMatrixDisplay\n",
        "\n",
        "conf = confusion_matrix(df['target'], pred, normalize='pred')\n",
        "disp = ConfusionMatrixDisplay(conf, display_labels=['High', 'Medium', 'None'])\n",
        "disp.plot(cmap='Blues')\n",
        "plt.show()"
      ],
      "metadata": {
        "colab": {
          "base_uri": "https://localhost:8080/",
          "height": 449
        },
        "id": "xl2QL-x5757Z",
        "outputId": "7a5a1444-327e-422a-9aa7-dfa75b3aaaca",
        "cellView": "form"
      },
      "execution_count": 52,
      "outputs": [
        {
          "output_type": "display_data",
          "data": {
            "text/plain": [
              "<Figure size 640x480 with 2 Axes>"
            ],
            "image/png": "[encoded data removed]"
          },
          "metadata": {}
        }
      ]
    },
    {
      "cell_type": "markdown",
      "source": [
        "57% das vezes que o modelo afirma que não haverá atrasos na entre ele está correto."
      ],
      "metadata": {
        "id": "fv40mNoQ8XH4"
      }
    },
    {
      "cell_type": "code",
      "source": [
        "#@title Matrix Confusão (Precision)\n",
        "from sklearn.metrics import confusion_matrix, ConfusionMatrixDisplay\n",
        "\n",
        "conf = confusion_matrix(df['target'], pred, normalize='true')\n",
        "disp = ConfusionMatrixDisplay(conf, display_labels=['High', 'Medium', 'None'])\n",
        "disp.plot(cmap='Blues')\n",
        "plt.show()"
      ],
      "metadata": {
        "colab": {
          "base_uri": "https://localhost:8080/",
          "height": 449
        },
        "outputId": "6db1afb9-0567-4dc8-d0c7-4ef4c3e32837",
        "cellView": "form",
        "id": "pmPbaeXj7yi0"
      },
      "execution_count": 53,
      "outputs": [
        {
          "output_type": "display_data",
          "data": {
            "text/plain": [
              "<Figure size 640x480 with 2 Axes>"
            ],
            "image/png": "[encoded data removed]"
          },
          "metadata": {}
        }
      ]
    },
    {
      "cell_type": "markdown",
      "source": [
        "O modelo identifica a maioria das entregas que serão feitas com um atraso grande. Além disso, como é esperado nessas situações, ainda mais com um modelo simples, existe uma imprecisão no modelo ao separar atrasos grandes (High) de atrasos pequenos (Medium), e ao separar atrasos pequenos (Medium) com nenhum atraso (None). "
      ],
      "metadata": {
        "id": "0WJ0VDRn792D"
      }
    },
    {
      "cell_type": "markdown",
      "source": [
        "# Resultados\n",
        "\n",
        "No dataset, as estimativas para a entrega estão corretas somente 20% das vezes. O nosso modelo, apesar de simples, consegue avisar sobre o atraso do produto com 55%~57% de acurácia. O modelo também se mostrou muito preciso para identificar atrasos grandes. Com este modelo podemos avisar previamente o comprador de possíveis atrasos na entrega. Esperamos que este aviso diminua a insatisfação com o cliente com o atraso.\n",
        "\n",
        "> Sem o uso do DBSCAN para identificar os clusters, a acurácia do modelo cai para ~52%."
      ],
      "metadata": {
        "id": "mWKrOAfTRR9q"
      }
    },
    {
      "cell_type": "markdown",
      "source": [
        "#DNN com layers de preprocessamento\n",
        "\n",
        "Esse modelo obtém resultados um pouco melhores."
      ],
      "metadata": {
        "id": "C-Lc8-hvutfx"
      }
    },
    {
      "cell_type": "markdown",
      "source": [
        "### Imports"
      ],
      "metadata": {
        "id": "l34jKSRJuzEc"
      }
    },
    {
      "cell_type": "code",
      "source": [
        "import numpy as np"
      ],
      "metadata": {
        "id": "1L2EQv7MuzEd"
      },
      "execution_count": 54,
      "outputs": []
    },
    {
      "cell_type": "code",
      "execution_count": 55,
      "metadata": {
        "id": "4zBzAoXEuzEd"
      },
      "outputs": [],
      "source": [
        "import tensorflow as tf\n",
        "from tensorflow import keras\n",
        "from keras.models import Sequential, Model\n",
        "from keras.layers import Input\n",
        "from keras import layers\n",
        "from keras.callbacks import ModelCheckpoint \n",
        "\n",
        "from tensorflow.keras.utils import plot_model\n",
        "\n",
        "from keras.layers import Dense"
      ]
    },
    {
      "cell_type": "code",
      "source": [
        "tf.keras.backend.clear_session()"
      ],
      "metadata": {
        "id": "blUrfg1vBV0a"
      },
      "execution_count": 56,
      "outputs": []
    },
    {
      "cell_type": "markdown",
      "source": [
        "### Auxiliary Functions\n"
      ],
      "metadata": {
        "id": "gQLUSrA2uzEe"
      }
    },
    {
      "cell_type": "code",
      "source": [
        "from IPython.display import display\n",
        "\n",
        "def visualize(summary, visualize_graph, model, model_name):\n",
        "\n",
        "  if summary == True:\n",
        "    model.summary()\n",
        "\n",
        "  if visualize_graph == True:\n",
        "    try:\n",
        "      display(keras.utils.plot_model(model, show_shapes=True, rankdir=\"LR\"))\n",
        "    except:\n",
        "      print('Run: \\n!pip install pydot \\\n",
        "                  \\n!pip install pydotplus \\\n",
        "                  \\n!pip install graphviz \\\n",
        "                  \\n!apt-get install graphviz -y')\n",
        "        \n",
        "  return"
      ],
      "metadata": {
        "id": "RF2O4wZTuzEe"
      },
      "execution_count": 57,
      "outputs": []
    },
    {
      "cell_type": "code",
      "source": [
        "def get_normalization_layer(name, dataset):\n",
        "\n",
        "  normalizer = layers.Normalization()\n",
        "\n",
        "  feature_ds = dataset[name]\n",
        "\n",
        "  normalizer.adapt(feature_ds)\n",
        "\n",
        "  return normalizer\n",
        "\n",
        "def get_discretization_layer(name, dataset, num_bins):\n",
        "\n",
        "  discretizer = layers.Discretization(num_bins=num_bins, epsilon=1e-10)\n",
        "      \n",
        "  feature_ds = dataset[name]\n",
        "\n",
        "  discretizer.adapt(feature_ds)\n",
        "\n",
        "  return discretizer\n",
        "\n",
        "def get_category_encoding_layer(name, dataset, dtype, output_mode='int', max_tokens=None):\n",
        "  \n",
        "  if dtype == 'string':\n",
        "    #Note that, for strings, index 0 is reserved for out-of-vocabulary values\n",
        "    #(values that were not seen during adapt()).\n",
        "    categories = layers.StringLookup(max_tokens=max_tokens, output_mode=output_mode)\n",
        "  else:\n",
        "    #Note that, for integers, index 0 is reserved for missing values \n",
        "    #(which you should specify as the value 0), and index 1 is reserved for\n",
        "    # out-of-vocabulary values (values that were not seen during adapt())\n",
        "    categories = layers.IntegerLookup(max_tokens=max_tokens, output_mode=output_mode)\n",
        "    \n",
        "  feature_ds = dataset[name]\n",
        "\n",
        "  categories.adapt(feature_ds)\n",
        "\n",
        "  return categories"
      ],
      "metadata": {
        "id": "rdNADcxzEo7D"
      },
      "execution_count": 58,
      "outputs": []
    },
    {
      "cell_type": "markdown",
      "source": [
        "### Model Definitions"
      ],
      "metadata": {
        "id": "xDlctOVJuzEf"
      }
    },
    {
      "cell_type": "code",
      "source": [
        "loss_fn = tf.keras.losses.CategoricalCrossentropy(from_logits=True)\n",
        "optimizer = 'adam'\n",
        "metrics = ['accuracy']\n",
        "model_name = 'base_model'\n",
        "val_metrics = 'val_loss'"
      ],
      "metadata": {
        "id": "VKqbOxrFuzEh"
      },
      "execution_count": 59,
      "outputs": []
    },
    {
      "cell_type": "code",
      "source": [
        "folder_path = './logs1'"
      ],
      "metadata": {
        "id": "LAqqqpw6uzEi"
      },
      "execution_count": 60,
      "outputs": []
    },
    {
      "cell_type": "code",
      "source": [
        "batch_size = df.shape[0]\n",
        "epochs = 2500\n",
        "workers = 7"
      ],
      "metadata": {
        "id": "wy5gCfyeuzEi"
      },
      "execution_count": 61,
      "outputs": []
    },
    {
      "cell_type": "markdown",
      "source": [
        "### Initialize Tensorboard"
      ],
      "metadata": {
        "id": "f3tTyo2vuzEj"
      }
    },
    {
      "cell_type": "code",
      "source": [
        "%load_ext tensorboard"
      ],
      "metadata": {
        "id": "NlA1eJQeuzEj"
      },
      "execution_count": 62,
      "outputs": []
    },
    {
      "cell_type": "code",
      "source": [
        "%tensorboard --logdir $folder_path --host 0.0.0.0"
      ],
      "metadata": {
        "colab": {
          "base_uri": "https://localhost:8080/",
          "height": 0
        },
        "outputId": "755be033-749d-4c95-9719-78b29d224fcb",
        "id": "L4fdCocNuzEj"
      },
      "execution_count": 63,
      "outputs": [
        {
          "output_type": "display_data",
          "data": {
            "text/plain": [
              "<IPython.core.display.HTML object>"
            ],
            "text/html": [
              "\n",
              "      <iframe id=\"tensorboard-frame-56cae130bedb60ad\" width=\"100%\" height=\"800\" frameborder=\"0\">\n",
              "      </iframe>\n",
              "      <script>\n",
              "        (function() {\n",
              "          const frame = document.getElementById(\"tensorboard-frame-56cae130bedb60ad\");\n",
              "          const url = new URL(\"/\", window.location);\n",
              "          const port = 6006;\n",
              "          if (port) {\n",
              "            url.port = port;\n",
              "          }\n",
              "          frame.src = url;\n",
              "        })();\n",
              "      </script>\n",
              "    "
            ]
          },
          "metadata": {}
        }
      ]
    },
    {
      "cell_type": "markdown",
      "source": [
        "### Create Preprossing Layers "
      ],
      "metadata": {
        "id": "pM_RNHhyrIyG"
      }
    },
    {
      "cell_type": "code",
      "source": [
        "oh = [\n",
        "      'purchase_month',\n",
        "      'db_label',\n",
        "      'review_score',\n",
        "      ]\n",
        "\n",
        "continuous = [\n",
        "              'product_volume',\n",
        "              'order_item_qty',\n",
        "              ]\n",
        "\n",
        "categorical = [\n",
        "               'same_state',\n",
        "               ]"
      ],
      "metadata": {
        "id": "8-3xIGIHwCjt"
      },
      "execution_count": 64,
      "outputs": []
    },
    {
      "cell_type": "code",
      "source": [
        "cols_order = oh + continuous + categorical"
      ],
      "metadata": {
        "id": "Z_B0Va4uxd5F"
      },
      "execution_count": 65,
      "outputs": []
    },
    {
      "cell_type": "code",
      "source": [
        "norm_cols = continuous\n",
        "disc_cols = []\n",
        "onehot_cols = oh\n",
        "cat_cols = categorical\n",
        "print('Normalization: {}\\nDiscretization: {}\\nOneHot: {}\\nCategorical: {}'.format(norm_cols, disc_cols, onehot_cols, cat_cols))"
      ],
      "metadata": {
        "colab": {
          "base_uri": "https://localhost:8080/"
        },
        "id": "m-7H178U-m64",
        "outputId": "53ee9a77-aa14-4de4-83f2-4300aabccf5e"
      },
      "execution_count": 66,
      "outputs": [
        {
          "output_type": "stream",
          "name": "stdout",
          "text": [
            "Normalization: ['product_volume', 'order_item_qty']\n",
            "Discretization: []\n",
            "OneHot: ['purchase_month', 'db_label', 'review_score']\n",
            "Categorical: ['same_state']\n"
          ]
        }
      ]
    },
    {
      "cell_type": "code",
      "source": [
        "#Stack the preprocessing layers and the input layers.\n",
        "input_layers = [] # Enters in model.fit\n",
        "preprocess_layers = [] # Enter in Sequential()\n",
        "\n",
        "#Normalization loop\n",
        "for name in norm_cols:\n",
        "  \n",
        "  layer = get_normalization_layer(name, df)\n",
        "\n",
        "  input_layer = tf.keras.Input(shape=(1,), name=name)\n",
        "  preprocess_layer = layer(input_layer)\n",
        "\n",
        "  input_layers.append(input_layer)\n",
        "  preprocess_layers.append(preprocess_layer)\n",
        "\n",
        "#Discretization loop\n",
        "for name in disc_cols:\n",
        "  \n",
        "  layer = get_discretization_layer(name, df, num_bins=4)\n",
        "\n",
        "  input_layer = tf.keras.Input(shape=(1,), name=name)\n",
        "  preprocess_layer = tf.cast(layer(input_layer), dtype=tf.float32)\n",
        "\n",
        "  input_layers.append(input_layer)\n",
        "  preprocess_layers.append(preprocess_layer)\n",
        "\n",
        "#One-Hot Enconding loop\n",
        "for name in onehot_cols:\n",
        "  \n",
        "  layer = get_category_encoding_layer(name, df, dtype='float32',\n",
        "                                      output_mode='one_hot')\n",
        "\n",
        "  input_layer = tf.keras.Input(shape=(1,), name=name)\n",
        "  preprocess_layer = layer(input_layer)\n",
        "\n",
        "  input_layers.append(input_layer)\n",
        "  preprocess_layers.append(preprocess_layer)\n",
        "\n",
        "#Categorical loop\n",
        "for name in cat_cols:\n",
        "  \n",
        "  layer = get_category_encoding_layer(name, df, 'int', max_tokens=None)\n",
        "\n",
        "  input_layer = tf.keras.Input(shape=(1,), name=name, dtype=tf.int64)\n",
        "  preprocess_layer = tf.cast(layer(input_layer), dtype=tf.float32)\n",
        "\n",
        "  input_layers.append(input_layer)\n",
        "  preprocess_layers.append(preprocess_layer)\n",
        "\n",
        "del layer\n",
        "del input_layer"
      ],
      "metadata": {
        "id": "vrXwhRRg-eK6"
      },
      "execution_count": 67,
      "outputs": []
    },
    {
      "cell_type": "code",
      "source": [
        "#input_layers, preprocess_layers"
      ],
      "metadata": {
        "id": "hm_l2y3PES3T"
      },
      "execution_count": 68,
      "outputs": []
    },
    {
      "cell_type": "markdown",
      "source": [
        "### Create Model"
      ],
      "metadata": {
        "id": "0TOSDlVJuzEk"
      }
    },
    {
      "cell_type": "code",
      "source": [
        "def Funcitonal_API(input):\n",
        "\n",
        "  '''\n",
        "     The functional API can handle models with non-linear topology,\n",
        "     shared layers, and even multiple inputs or outputs.\n",
        "  '''\n",
        "\n",
        "  x = tf.keras.layers.Dense(20)(input)\n",
        "  x = tf.keras.activations.relu(x, alpha=0.25)\n",
        "  x = tf.keras.layers.Dropout(0.15)(x)\n",
        "  x = tf.keras.layers.Dense(15, activation='relu')(x)\n",
        "  x = tf.keras.layers.Dense(3)(x)\n",
        "\n",
        "  output = x\n",
        "\n",
        "  model = Model(input_layers, output, name=model_name)\n",
        "\n",
        "  return model"
      ],
      "metadata": {
        "id": "GvbupwzEqBe4"
      },
      "execution_count": 69,
      "outputs": []
    },
    {
      "cell_type": "code",
      "source": [
        "def Create_Model(X):\n",
        "\n",
        "  x_input = tf.keras.layers.concatenate(preprocess_layers)\n",
        "\n",
        "  model = Funcitonal_API(x_input)\n",
        "\n",
        "  return model"
      ],
      "metadata": {
        "id": "N-XBkXGGuzEm"
      },
      "execution_count": 70,
      "outputs": []
    },
    {
      "cell_type": "markdown",
      "source": [
        "### Build and Compile"
      ],
      "metadata": {
        "id": "XXeCTCLguzEp"
      }
    },
    {
      "cell_type": "code",
      "source": [
        "def Model_Build_Compile(X, loss_fn, metrics='accuracy',\n",
        "                        optimizer='adam', summary=False,\n",
        "                        visualize_graph=False):\n",
        "\n",
        "    model = Create_Model(X)\n",
        "\n",
        "    model.compile(\n",
        "                  loss=loss_fn,\n",
        "                  optimizer=optimizer,\n",
        "                  metrics=metrics,\n",
        "                  )\n",
        "\n",
        "    if summary or visualize_graph == True:\n",
        "      visualize(summary, visualize_graph, model, model_name)\n",
        "\n",
        "    return model"
      ],
      "metadata": {
        "id": "sAQEnGDZuzEq"
      },
      "execution_count": 71,
      "outputs": []
    },
    {
      "cell_type": "code",
      "source": [
        "model = Model_Build_Compile(X, loss_fn, metrics, optimizer,\n",
        "                            summary=False, visualize_graph=True)"
      ],
      "metadata": {
        "colab": {
          "base_uri": "https://localhost:8080/",
          "height": 0
        },
        "outputId": "fbb60fd2-dac2-4dda-fde2-75aab903261e",
        "id": "zeQEdPRpuzEr"
      },
      "execution_count": 72,
      "outputs": [
        {
          "output_type": "stream",
          "name": "stdout",
          "text": [
            "('You must install pydot (`pip install pydot`) and install graphviz (see instructions at https://graphviz.gitlab.io/download/) ', 'for plot_model/model_to_dot to work.')\n"
          ]
        },
        {
          "output_type": "display_data",
          "data": {
            "text/plain": [
              "None"
            ]
          },
          "metadata": {}
        }
      ]
    },
    {
      "cell_type": "markdown",
      "source": [
        "### Callbacks - Basic"
      ],
      "metadata": {
        "id": "AW3BuXBJuzEs"
      }
    },
    {
      "cell_type": "code",
      "source": [
        "import os\n",
        "import datetime\n",
        "from datetime import datetime\n",
        "import pytz\n",
        "\n",
        "tz_SP = pytz.timezone('America/Sao_Paulo')"
      ],
      "metadata": {
        "id": "mO5vbBM2uzEs"
      },
      "execution_count": 73,
      "outputs": []
    },
    {
      "cell_type": "code",
      "source": [
        "logdir = os.path.join(folder_path, model_name \\\n",
        "                     # + '-' + datetime.now(tz_SP).strftime(\"%Y-%m-%d_%H:%M:%S\")\n",
        "                      )\n",
        "print('Path to the logs: {0}'.format(logdir))"
      ],
      "metadata": {
        "colab": {
          "base_uri": "https://localhost:8080/"
        },
        "outputId": "3c176cae-744e-45d9-e3fb-04244de83fe5",
        "id": "WKA_TTIXuzEt"
      },
      "execution_count": 74,
      "outputs": [
        {
          "output_type": "stream",
          "name": "stdout",
          "text": [
            "Path to the logs: ./logs1/base_model\n"
          ]
        }
      ]
    },
    {
      "cell_type": "code",
      "source": [
        "tensorboard_callback = tf.keras.callbacks.TensorBoard(logdir,\n",
        "                                                      write_graph=False,\n",
        "                                                      write_images=1,\n",
        "                                                      histogram_freq=1,\n",
        "                                                      )"
      ],
      "metadata": {
        "id": "w6Gt34XFuzEu"
      },
      "execution_count": 75,
      "outputs": []
    },
    {
      "cell_type": "code",
      "source": [
        "def scheduler(epoch, lr):\n",
        "  if epoch < 1500:\n",
        "    return lr\n",
        "  else:\n",
        "    return 0.005"
      ],
      "metadata": {
        "id": "IitfClaR_H7j"
      },
      "execution_count": 76,
      "outputs": []
    },
    {
      "cell_type": "code",
      "source": [
        "scheduler_callback = tf.keras.callbacks.LearningRateScheduler(scheduler, verbose=1)"
      ],
      "metadata": {
        "id": "GTVd6zEH-_Kt"
      },
      "execution_count": 77,
      "outputs": []
    },
    {
      "cell_type": "markdown",
      "source": [
        "### Model Fit - Basic"
      ],
      "metadata": {
        "id": "jfxXiMkFuzEv"
      }
    },
    {
      "cell_type": "code",
      "source": [
        "X = [df[name].values for name in cols_order]\n",
        "y_hat = pd.get_dummies(df['target']).values"
      ],
      "metadata": {
        "id": "uuJEry6ZuzEf"
      },
      "execution_count": 82,
      "outputs": []
    },
    {
      "cell_type": "code",
      "source": [
        "#TensorBoard não está funcionando com as layers de preprocessamento. (!?)\n",
        "hist = model.fit(X, y_hat,\n",
        "                 #validation_data=(,),\n",
        "                 validation_split=0.1,\n",
        "                 initial_epoch=0,\n",
        "                 verbose=1,\n",
        "                 callbacks=[scheduler_callback],\n",
        "                 workers=workers,\n",
        "                 batch_size=batch_size,\n",
        "                 epochs=epochs,)"
      ],
      "metadata": {
        "id": "L1Ey0DO2uzEv"
      },
      "execution_count": null,
      "outputs": []
    },
    {
      "cell_type": "code",
      "source": [
        "plt.figure(figsize=[10, 5])\n",
        "\n",
        "plt.subplot(121)\n",
        "plt.plot(hist.history['loss'], label='Loss')\n",
        "plt.plot(hist.history['val_loss'], label='Validation Loss')\n",
        "plt.title('Loss')\n",
        "plt.legend()\n",
        "\n",
        "plt.subplot(122)\n",
        "plt.plot(hist.history['accuracy'], label='Acc')\n",
        "plt.plot(hist.history['val_accuracy'], label='Validation Acc')\n",
        "plt.title('Accuracy')\n",
        "plt.legend()\n",
        "\n",
        "plt.show()"
      ],
      "metadata": {
        "colab": {
          "base_uri": "https://localhost:8080/",
          "height": 468
        },
        "id": "BingEMnycZ83",
        "outputId": "d008bb01-a137-4669-b2ff-2f435fc214b9"
      },
      "execution_count": 80,
      "outputs": [
        {
          "output_type": "display_data",
          "data": {
            "text/plain": [
              "<Figure size 1000x500 with 2 Axes>"
            ],
            "image/png": "[encoded data removed]"
          },
          "metadata": {}
        }
      ]
    },
    {
      "cell_type": "markdown",
      "source": [
        "> Na imagem acima, vemos que o dataset de validação tem uma acurácia melhor do que o dataset de treino. Isso acontece porque o Keras separou, aleatoriamente, um dataset de validação com amostras mais fáceis de serem classificadas do que as presentes no dataset de treino."
      ],
      "metadata": {
        "id": "J0d2exXWwdsq"
      }
    },
    {
      "cell_type": "markdown",
      "source": [
        "O algoritmo de DNN possui acurácia, precisão e recall melhores do que as vistas para o RandomTree."
      ],
      "metadata": {
        "id": "DaMHOVAwx55Q"
      }
    },
    {
      "cell_type": "code",
      "source": [
        "model.evaluate(X, y_hat)"
      ],
      "metadata": {
        "colab": {
          "base_uri": "https://localhost:8080/"
        },
        "id": "PKteod36joar",
        "outputId": "2a13fae5-cf99-45e7-ade5-1960f680f771"
      },
      "execution_count": 81,
      "outputs": [
        {
          "output_type": "stream",
          "name": "stdout",
          "text": [
            "431/431 [==============================] - 1s 2ms/step - loss: 0.9114 - accuracy: 0.5739\n"
          ]
        },
        {
          "output_type": "execute_result",
          "data": {
            "text/plain": [
              "[0.9114481806755066, 0.5738953948020935]"
            ]
          },
          "metadata": {},
          "execution_count": 81
        }
      ]
    },
    {
      "cell_type": "code",
      "source": [
        "#Adicionando a layer de probabilidade ao modelo\n",
        "\n",
        "last_layer_output = model.layers[-1].output\n",
        "x = tf.keras.layers.Softmax()(last_layer_output)\n",
        "output_prob = tf.math.argmax(x, axis=1)\n",
        "prob_model = Model(model.input, output_prob)"
      ],
      "metadata": {
        "id": "tgsL0dNgvUGX"
      },
      "execution_count": 137,
      "outputs": []
    },
    {
      "cell_type": "code",
      "source": [
        "pred = prob_model.predict(X)"
      ],
      "metadata": {
        "id": "SBRPuEjdpnU5"
      },
      "execution_count": 138,
      "outputs": []
    },
    {
      "cell_type": "code",
      "source": [
        "#@title Matriz Confusão (Precision)\n",
        "from sklearn.metrics import confusion_matrix, ConfusionMatrixDisplay\n",
        "\n",
        "conf = confusion_matrix(df['target'], pred, normalize='true')\n",
        "disp = ConfusionMatrixDisplay(conf, display_labels=['High', 'Medium', 'None'])\n",
        "disp.plot(cmap='Blues')\n",
        "plt.show()"
      ],
      "metadata": {
        "colab": {
          "base_uri": "https://localhost:8080/",
          "height": 449
        },
        "cellView": "form",
        "id": "ZfkZWE8ppclI",
        "outputId": "da4254d1-4ab3-4191-bbdc-cf6de266ba8f"
      },
      "execution_count": 139,
      "outputs": [
        {
          "output_type": "display_data",
          "data": {
            "text/plain": [
              "<Figure size 640x480 with 2 Axes>"
            ],
            "image/png": "[encoded data removed]"
          },
          "metadata": {}
        }
      ]
    },
    {
      "cell_type": "code",
      "source": [
        "#@title Matriz Confusão (Recall)\n",
        "from sklearn.metrics import confusion_matrix, ConfusionMatrixDisplay\n",
        "\n",
        "conf = confusion_matrix(df['target'], pred, normalize='pred')\n",
        "disp = ConfusionMatrixDisplay(conf, display_labels=['High', 'Medium', 'None'])\n",
        "disp.plot(cmap='Blues')\n",
        "plt.show()"
      ],
      "metadata": {
        "colab": {
          "base_uri": "https://localhost:8080/",
          "height": 449
        },
        "cellView": "form",
        "id": "5uQpm4TDplNb",
        "outputId": "7b17faac-a4e4-41ac-80ed-36d6c2786b3c"
      },
      "execution_count": 140,
      "outputs": [
        {
          "output_type": "display_data",
          "data": {
            "text/plain": [
              "<Figure size 640x480 with 2 Axes>"
            ],
            "image/png": "[encoded data removed]"
          },
          "metadata": {}
        }
      ]
    }
  ]
}